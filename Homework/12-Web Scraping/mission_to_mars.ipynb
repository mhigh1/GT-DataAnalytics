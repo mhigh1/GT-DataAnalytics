{
 "metadata": {
  "language_info": {
   "codemirror_mode": {
    "name": "ipython",
    "version": 3
   },
   "file_extension": ".py",
   "mimetype": "text/x-python",
   "name": "python",
   "nbconvert_exporter": "python",
   "pygments_lexer": "ipython3",
   "version": "3.8.5"
  },
  "orig_nbformat": 2,
  "kernelspec": {
   "name": "python385jvsc74a57bd0958c838de46e3c0be1b848b76a73694542b1e0177bd603c34cc40f06e099de3f",
   "display_name": "Python 3.8.5 64-bit ('GTDataDev': conda)"
  }
 },
 "nbformat": 4,
 "nbformat_minor": 2,
 "cells": [
  {
   "cell_type": "code",
   "execution_count": null,
   "metadata": {},
   "outputs": [],
   "source": [
    "# Dependencies\n",
    "import pandas as pd\n",
    "from splinter import Browser\n",
    "from bs4 import BeautifulSoup\n",
    "from webdriver_manager.chrome import ChromeDriverManager"
   ]
  },
  {
   "cell_type": "code",
   "execution_count": null,
   "metadata": {},
   "outputs": [],
   "source": [
    "# Set up Splinter\n",
    "executable_path = {'executable_path': ChromeDriverManager().install()}\n",
    "browser = Browser('chrome', **executable_path, headless=False)"
   ]
  },
  {
   "cell_type": "code",
   "execution_count": null,
   "metadata": {},
   "outputs": [],
   "source": [
    "## NASA Mars News\n",
    "url = \"https://mars.nasa.gov/news/\"\n",
    "browser.visit(url)\n",
    "html = browser.html\n",
    "soup = BeautifulSoup(html, \"html.parser\")"
   ]
  },
  {
   "cell_type": "code",
   "execution_count": null,
   "metadata": {
    "tags": []
   },
   "outputs": [],
   "source": [
    "# Get First News Article from List and store title and description\n",
    "news_feed = soup.find(\"section\", class_=\"grid_gallery\")\n",
    "article = news_feed.find(\"li\")\n",
    "news_title = article.find(\"div\", class_=\"content_title\").get_text()\n",
    "news_desc = article.find(\"div\", class_=\"article_teaser_body\").get_text()"
   ]
  },
  {
   "cell_type": "code",
   "execution_count": null,
   "metadata": {},
   "outputs": [],
   "source": [
    "## PL Mars Space Images - Featured Image\n",
    "url = \"https://data-class-jpl-space.s3.amazonaws.com/JPL_Space/index.html\"\n",
    "browser.visit(url)\n",
    "html = browser.html\n",
    "soup = BeautifulSoup(html, \"html.parser\")"
   ]
  },
  {
   "cell_type": "code",
   "execution_count": null,
   "metadata": {},
   "outputs": [],
   "source": [
    "# Get featured image path\n",
    "base_url = \"https://data-class-jpl-space.s3.amazonaws.com/JPL_Space\"\n",
    "featured_image_rel_path = soup.find(\"img\", class_=\"headerimage\")[\"src\"]\n",
    "featured_image_url = f\"{base_url}/{featured_image_rel_path}\""
   ]
  },
  {
   "cell_type": "code",
   "execution_count": null,
   "metadata": {},
   "outputs": [],
   "source": [
    "# Mars Facts\n",
    "url = \"https://space-facts.com/mars/\"\n",
    "\n",
    "tables = pd.read_html(url)\n",
    "df = tables[0]\n",
    "df.rename(columns={0:\"Description\", 1:\"Mars\"}, inplace=True)\n",
    "df.set_index(\"Description\", inplace=True)"
   ]
  },
  {
   "cell_type": "code",
   "execution_count": null,
   "metadata": {},
   "outputs": [],
   "source": [
    "# Convert to html table\n",
    "html_table = df.to_html(header=False, index_names=False, border=0, classes=[\"table\",\"table-striped\",\"table-bordered\"])\n",
    "\n",
    "# strip unneccessry line endings\n",
    "html_table = html_table.replace('\\n', '')"
   ]
  },
  {
   "cell_type": "code",
   "execution_count": null,
   "metadata": {},
   "outputs": [],
   "source": [
    "## Mars Hemispheres\n",
    "url = \"https://astrogeology.usgs.gov/search/results?q=hemisphere+enhanced&k1=target&v1=Mars\"\n",
    "browser.visit(url)"
   ]
  },
  {
   "cell_type": "code",
   "execution_count": null,
   "metadata": {},
   "outputs": [],
   "source": [
    "url_root = \"https://astrogeology.usgs.gov\"\n",
    "hemisphere_image_urls = []\n",
    "links = []\n",
    "divs = browser.find_by_tag(\"div\").find_by_css(\".description\")\n",
    "\n",
    "# Get links of each sub-page\n",
    "for el in divs:\n",
    "    link = el.find_by_tag(\"a\").first[\"href\"]\n",
    "    links.append(link)\n",
    "\n",
    "# For each subpage, navigate to it and scrape title and img url\n",
    "for link in links:\n",
    "    browser.visit(link)\n",
    "    html = browser.html\n",
    "    soup = BeautifulSoup(html, \"html.parser\")\n",
    "    \n",
    "    # Get values\n",
    "    title = soup.find(\"h2\", class_=\"title\").get_text()\n",
    "    img_rel_url = soup.find(\"img\", class_=\"wide-image\")[\"src\"]\n",
    "\n",
    "    # Add object to list\n",
    "    hemisphere_image_urls.append(\n",
    "        {\n",
    "            \"title\": title,\n",
    "            \"img_url\": url_root + img_rel_url\n",
    "        }\n",
    "    )"
   ]
  },
  {
   "cell_type": "code",
   "execution_count": null,
   "metadata": {},
   "outputs": [],
   "source": [
    "browser.quit()"
   ]
  }
 ]
}