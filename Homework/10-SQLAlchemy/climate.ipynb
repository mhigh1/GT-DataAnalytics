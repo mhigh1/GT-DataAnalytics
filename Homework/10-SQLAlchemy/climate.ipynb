{
 "cells": [
  {
   "cell_type": "code",
   "execution_count": null,
   "metadata": {},
   "outputs": [],
   "source": [
    "%matplotlib inline\n",
    "from matplotlib import style\n",
    "style.use('fivethirtyeight')\n",
    "import matplotlib.pyplot as plt"
   ]
  },
  {
   "cell_type": "code",
   "execution_count": null,
   "metadata": {},
   "outputs": [],
   "source": [
    "import numpy as np\n",
    "import pandas as pd\n",
    "import datetime as dt"
   ]
  },
  {
   "cell_type": "markdown",
   "metadata": {},
   "source": [
    "# Reflect Tables into SQLAlchemy ORM"
   ]
  },
  {
   "cell_type": "code",
   "execution_count": null,
   "metadata": {},
   "outputs": [],
   "source": [
    "# Python SQL toolkit and Object Relational Mapper\n",
    "import sqlalchemy\n",
    "from sqlalchemy.ext.automap import automap_base\n",
    "from sqlalchemy.orm import Session\n",
    "from sqlalchemy import create_engine, func"
   ]
  },
  {
   "cell_type": "code",
   "execution_count": null,
   "metadata": {},
   "outputs": [],
   "source": [
    "# create engine to hawaii.sqlite\r\n",
    "engine = create_engine(\"sqlite:///resources/hawaii.sqlite\")"
   ]
  },
  {
   "cell_type": "code",
   "execution_count": null,
   "metadata": {},
   "outputs": [],
   "source": [
    "# reflect an existing database into a new model\r\n",
    "Base = automap_base()\r\n",
    "# reflect the tables\r\n",
    "Base.prepare(engine, reflect = True)"
   ]
  },
  {
   "cell_type": "code",
   "execution_count": null,
   "metadata": {},
   "outputs": [],
   "source": [
    "# View all of the classes that automap found\r\n",
    "Base.classes.keys()"
   ]
  },
  {
   "cell_type": "code",
   "execution_count": null,
   "metadata": {},
   "outputs": [],
   "source": [
    "# Save references to each table\r\n",
    "measurement = Base.classes.measurement\r\n",
    "station = Base.classes.station"
   ]
  },
  {
   "cell_type": "code",
   "execution_count": null,
   "metadata": {},
   "outputs": [],
   "source": [
    "# Create our session (link) from Python to the DB\r\n",
    "session = Session(engine)"
   ]
  },
  {
   "cell_type": "markdown",
   "metadata": {},
   "source": [
    "# Exploratory Precipitation Analysis"
   ]
  },
  {
   "cell_type": "code",
   "execution_count": null,
   "metadata": {},
   "outputs": [],
   "source": [
    "# Find the most recent date in the data set.\r\n",
    "latest_date = session.query(measurement.date).order_by(measurement.date.desc()).first()\r\n",
    "latest_date"
   ]
  },
  {
   "cell_type": "code",
   "execution_count": null,
   "metadata": {},
   "outputs": [],
   "source": [
    "# Design a query to retrieve the last 12 months of precipitation data and plot the results. \r\n",
    "# Starting from the most recent data point in the database. \r\n",
    "end_date = dt.date(2017, 8, 23)\r\n",
    "\r\n",
    "# Calculate the date one year from the last date in data set.\r\n",
    "start_date = end_date - dt.timedelta(days=365)\r\n",
    "\r\n",
    "# Perform a query to retrieve the data and precipitation scores\r\n",
    "query = session.query(measurement.date, measurement.prcp)\\\r\n",
    "    .filter(func.strftime(\"%Y-%m-%d\", measurement.date) >= start_date)\\\r\n",
    "    .all()\\\r\n",
    "\r\n",
    "# Save the query results as a Pandas DataFrame and set the index to the date column\r\n",
    "prcp_df = pd.DataFrame(query)\r\n",
    "prcp_df[\"date\"] = pd.to_datetime(prcp_df['date'])\r\n",
    "prcp_df.set_index(\"date\", inplace=True)\r\n",
    "\r\n",
    "# Sort the dataframe by date\r\n",
    "prcp_df.sort_index(inplace=True)\r\n",
    "\r\n",
    "# Use Pandas Plotting with Matplotlib to plot the data\r\n",
    "prcp_df.plot(figsize=(12,8))\r\n",
    "plt.ylabel(\"Inches\", labelpad=30)\r\n",
    "plt.xlabel(\"Date\", labelpad=30)\r\n",
    "plt.xticks(rotation=\"vertical\", ha=\"center\")\r\n",
    "plt.legend([\"Precipitation\"])\r\n",
    "plt.show()\r\n",
    "\r\n"
   ]
  },
  {
   "cell_type": "code",
   "execution_count": null,
   "metadata": {},
   "outputs": [],
   "source": [
    "# Use Pandas to calcualte the summary statistics for the precipitation data\r\n",
    "prcp_df.describe()"
   ]
  },
  {
   "cell_type": "markdown",
   "metadata": {},
   "source": [
    "# Exploratory Station Analysis"
   ]
  },
  {
   "cell_type": "code",
   "execution_count": null,
   "metadata": {},
   "outputs": [],
   "source": [
    "# Design a query to calculate the total number stations in the dataset\r\n",
    "station_count = session.query(station).count()\r\n",
    "print(f\"Total Stations: {station_count}\")"
   ]
  },
  {
   "cell_type": "code",
   "execution_count": null,
   "metadata": {},
   "outputs": [],
   "source": [
    "# Design a query to find the most active stations (i.e. what stations have the most rows?)\r\n",
    "# List the stations and the counts in descending order.\r\n",
    "active_stations = session.query(measurement.station, func.count(measurement.station))\\\r\n",
    "    .group_by(measurement.station)\\\r\n",
    "    .order_by(func.count(measurement.station).desc())\\\r\n",
    "    .all()\r\n",
    "active_stations"
   ]
  },
  {
   "cell_type": "code",
   "execution_count": null,
   "metadata": {},
   "outputs": [],
   "source": [
    "# Using the most active station id from the previous query, calculate the lowest, highest, and average temperature.\r\n",
    "tobs=[\r\n",
    "    measurement.station,\r\n",
    "    func.min(measurement.tobs),\r\n",
    "    func.max(measurement.tobs),\r\n",
    "    func.avg(measurement.tobs)\r\n",
    "    ]\r\n",
    "\r\n",
    "top_active_station = session.query(*tobs).filter(measurement.station == \"USC00519281\").all()\r\n",
    "\r\n",
    "print(f\"Most active station: {top_active_station[0][0]}\")\r\n",
    "print(f\"Lowest Temperature: {top_active_station[0][1]}\")\r\n",
    "print(f\"Highest temperature: {top_active_station[0][2]}\")\r\n",
    "print(f\"Average Temperature: {top_active_station[0][3]}\")"
   ]
  },
  {
   "cell_type": "code",
   "execution_count": null,
   "metadata": {},
   "outputs": [],
   "source": [
    "# Using the most active station id\r\n",
    "# Query the last 12 months of temperature observation data for this station and plot the results as a histogram\r\n",
    "query = session.query(measurement.station, measurement.date, measurement.tobs)\\\r\n",
    "    .filter(func.strftime(\"%Y-%m-%d\", measurement.date) > start_date)\\\r\n",
    "    .filter(measurement.station == \"USC00519281\")\\\r\n",
    "    .all()\\\r\n",
    "\r\n",
    "active_station_df = pd.DataFrame(query, columns=[\"Station\", \"Date\", \"Temperature\"])\r\n",
    "active_station_df.head()"
   ]
  },
  {
   "cell_type": "code",
   "execution_count": null,
   "metadata": {},
   "outputs": [],
   "source": [
    "active_station_df.plot(kind=\"hist\", bins=12, figsize=(16,9))\r\n",
    "plt.xlabel(\"Temperature (°F)\")\r\n",
    "plt.ylabel(\"Frequency\")\r\n",
    "plt.show()"
   ]
  },
  {
   "cell_type": "markdown",
   "metadata": {},
   "source": [
    "# Close session"
   ]
  },
  {
   "cell_type": "code",
   "execution_count": null,
   "metadata": {},
   "outputs": [],
   "source": [
    "# Close Session\n",
    "session.close()"
   ]
  },
  {
   "cell_type": "code",
   "execution_count": null,
   "metadata": {},
   "outputs": [],
   "source": []
  }
 ],
 "metadata": {
  "anaconda-cloud": {},
  "interpreter": {
   "hash": "958c838de46e3c0be1b848b76a73694542b1e0177bd603c34cc40f06e099de3f"
  },
  "kernel_info": {
   "name": "python3"
  },
  "kernelspec": {
   "display_name": "Python 3.8.5 64-bit ('GTDataDev': conda)",
   "name": "python3"
  },
  "language_info": {
   "codemirror_mode": {
    "name": "ipython",
    "version": 3
   },
   "file_extension": ".py",
   "mimetype": "text/x-python",
   "name": "python",
   "nbconvert_exporter": "python",
   "pygments_lexer": "ipython3",
   "version": "3.8.5"
  },
  "nteract": {
   "version": "0.12.3"
  },
  "varInspector": {
   "cols": {
    "lenName": 16,
    "lenType": 16,
    "lenVar": 40
   },
   "kernels_config": {
    "python": {
     "delete_cmd_postfix": "",
     "delete_cmd_prefix": "del ",
     "library": "var_list.py",
     "varRefreshCmd": "print(var_dic_list())"
    },
    "r": {
     "delete_cmd_postfix": ") ",
     "delete_cmd_prefix": "rm(",
     "library": "var_list.r",
     "varRefreshCmd": "cat(var_dic_list()) "
    }
   },
   "types_to_exclude": [
    "module",
    "function",
    "builtin_function_or_method",
    "instance",
    "_Feature"
   ],
   "window_display": false
  }
 },
 "nbformat": 4,
 "nbformat_minor": 2
}