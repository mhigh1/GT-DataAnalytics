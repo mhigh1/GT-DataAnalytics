{
 "cells": [
  {
   "cell_type": "code",
   "execution_count": 37,
   "metadata": {},
   "outputs": [],
   "source": [
    "# Dependencies and Setup\n",
    "import pandas as pd\n",
    "\n",
    "# Files to load\n",
    "school_data_to_load = \"Resources/schools_complete.csv\"\n",
    "student_data_to_load = \"Resources/students_complete.csv\"\n",
    "\n",
    "# Read School and Student Data File and store into Pandas DataFrames\n",
    "school_data = pd.read_csv(school_data_to_load)\n",
    "student_data = pd.read_csv(student_data_to_load)\n",
    "\n",
    "# Combine the data into a single dataset\n",
    "school_data_complete = pd.merge(student_data, school_data, how=\"left\", on=[\"school_name\", \"school_name\"])"
   ]
  },
  {
   "cell_type": "markdown",
   "metadata": {},
   "source": [
    "## District Summary\n",
    "* Calculate the total number of schools\n",
    "* Calculate the total number of students\n",
    "* Calculate the total budget\n",
    "* Calculate the average math score \n",
    "* Calculate the average reading score\n",
    "* Calculate the percentage of students with a passing math score (70 or greater)\n",
    "* Calculate the percentage of students with a passing reading score (70 or greater)\n",
    "* Calculate the percentage of students who passed math **and** reading (% Overall Passing)\n",
    "* Create a dataframe to hold the above results\n",
    "* Optional: give the displayed data cleaner formatting"
   ]
  },
  {
   "cell_type": "code",
   "execution_count": 38,
   "metadata": {},
   "outputs": [
    {
     "output_type": "execute_result",
     "data": {
      "text/plain": [
       "   Total Schools Total Students    Total Budget  Average Math Score  \\\n",
       "0             15         39,170  $24,649,428.00           78.985371   \n",
       "\n",
       "   Average Reading Score  % Passing Math  % Passing Reading  % Overall Passing  \n",
       "0               81.87784       74.980853          85.805463          65.172326  "
      ],
      "text/html": "<div>\n<style scoped>\n    .dataframe tbody tr th:only-of-type {\n        vertical-align: middle;\n    }\n\n    .dataframe tbody tr th {\n        vertical-align: top;\n    }\n\n    .dataframe thead th {\n        text-align: right;\n    }\n</style>\n<table border=\"1\" class=\"dataframe\">\n  <thead>\n    <tr style=\"text-align: right;\">\n      <th></th>\n      <th>Total Schools</th>\n      <th>Total Students</th>\n      <th>Total Budget</th>\n      <th>Average Math Score</th>\n      <th>Average Reading Score</th>\n      <th>% Passing Math</th>\n      <th>% Passing Reading</th>\n      <th>% Overall Passing</th>\n    </tr>\n  </thead>\n  <tbody>\n    <tr>\n      <th>0</th>\n      <td>15</td>\n      <td>39,170</td>\n      <td>$24,649,428.00</td>\n      <td>78.985371</td>\n      <td>81.87784</td>\n      <td>74.980853</td>\n      <td>85.805463</td>\n      <td>65.172326</td>\n    </tr>\n  </tbody>\n</table>\n</div>"
     },
     "metadata": {},
     "execution_count": 38
    }
   ],
   "source": [
    "# Total schools in the district\n",
    "totalSchools = len(school_data_complete[\"School ID\"].unique())\n",
    "\n",
    "# Total sudents across all schools\n",
    "totalStudents = len(school_data_complete)\n",
    "\n",
    "# Total Budget across all schools\n",
    "totalBudget = school_data[\"budget\"].sum()\n",
    "\n",
    "# Avg. Maths Score\n",
    "avgMathScore = school_data_complete[\"math_score\"].mean()\n",
    "\n",
    "# Avg. Reading Score\n",
    "avgReadingScore = school_data_complete[\"reading_score\"].mean()\n",
    "\n",
    "# % Passing Maths\n",
    "countPassingMath = school_data_complete.loc[school_data_complete[\"math_score\"] >= 70][\"math_score\"].count()\n",
    "percentPassingMath = (countPassingMath / totalStudents) * 100\n",
    "\n",
    "# % Passing Reading\n",
    "countPassingReading = school_data_complete.loc[school_data_complete[\"reading_score\"] >= 70][\"reading_score\"].count()\n",
    "percentPassingReading = (countPassingReading / totalStudents) * 100\n",
    "\n",
    "# % Overall Passing\n",
    "countStudentsPassing = school_data_complete.loc[(school_data_complete[\"math_score\"] >=70) & (school_data_complete[\"reading_score\"] >= 70)][\"Student ID\"].count()\n",
    "percentStudentsPassing = (countStudentsPassing / totalStudents) * 100\n",
    "\n",
    "# DataFrame for District Summary\n",
    "district_summary_df = pd.DataFrame({\n",
    "    \"Total Schools\": [totalSchools],\n",
    "    \"Total Students\": \"{:,}\".format(totalStudents),\n",
    "    \"Total Budget\": \"${:,.2f}\".format(totalBudget),\n",
    "    \"Average Math Score\": avgMathScore,\n",
    "    \"Average Reading Score\": avgReadingScore,\n",
    "    \"% Passing Math\": percentPassingMath,\n",
    "    \"% Passing Reading\": percentPassingReading,\n",
    "    \"% Overall Passing\": percentStudentsPassing\n",
    "    })\n",
    "\n",
    "district_summary_df"
   ]
  },
  {
   "cell_type": "markdown",
   "metadata": {},
   "source": [
    "## School Summary\n",
    "* Create an overview table that summarizes key metrics about each school, including:\n",
    "  * School Name\n",
    "  * School Type\n",
    "  * Total Students\n",
    "  * Total School Budget\n",
    "  * Per Student Budget\n",
    "  * Average Math Score\n",
    "  * Average Reading Score\n",
    "  * % Passing Math\n",
    "  * % Passing Reading\n",
    "  * % Overall Passing (The percentage of students that passed math **and** reading.)\n",
    "  \n",
    "* Create a dataframe to hold the above results"
   ]
  },
  {
   "cell_type": "code",
   "execution_count": 39,
   "metadata": {},
   "outputs": [],
   "source": [
    "# Group data by 'School Name'\n",
    "school_groups = school_data_complete.groupby(\"school_name\")\n",
    "\n",
    "# Total Students (per School)\n",
    "schoolTotalStudents = school_groups[\"Student ID\"].count()\n",
    "\n",
    "# Get School Type from School Data series\n",
    "schoolType = school_data.set_index(\"school_name\")[\"type\"]\n",
    "\n",
    "# Get School Budget from school data series\n",
    "schoolBudget = school_data.set_index(\"school_name\")[\"budget\"]\n",
    "\n",
    "# Budget per Student\n",
    "budgetPerStudent = schoolBudget/schoolTotalStudents\n",
    "\n",
    "# Avg. Maths Score\n",
    "avgMathScore = school_groups[\"math_score\"].mean()\n",
    "\n",
    "# Avg. Reading Score\n",
    "avgReadingScore = school_groups[\"reading_score\"].mean()\n",
    "\n",
    "# % Passing Maths\n",
    "countPassingMaths = school_data_complete.loc[school_data_complete[\"math_score\"] >= 70].groupby(\"school_name\")[\"math_score\"].count()\n",
    "percentPassingMaths = (countPassingMaths/schoolTotalStudents) * 100\n",
    "\n",
    "# % Passing Reading\n",
    "countPassingReading = school_data_complete.loc[school_data_complete[\"reading_score\"] >= 70].groupby(\"school_name\")[\"reading_score\"].count()\n",
    "percentPassingReading = (countPassingReading / schoolTotalStudents) * 100\n",
    "\n",
    "# % Overall Passing\n",
    "countStudentsPassing = school_data_complete.loc[(school_data_complete[\"math_score\"] >=70) & (school_data_complete[\"reading_score\"] >= 70)].groupby(\"school_name\")[\"Student ID\"].count()\n",
    "percentStudentsPassing = (countStudentsPassing / schoolTotalStudents) * 100\n"
   ]
  },
  {
   "cell_type": "code",
   "execution_count": 40,
   "metadata": {},
   "outputs": [
    {
     "output_type": "execute_result",
     "data": {
      "text/plain": [
       "                      School Type  Total Students Total School Budget  \\\n",
       "Bailey High School       District            4976       $3,124,928.00   \n",
       "Cabrera High School       Charter            1858       $1,081,356.00   \n",
       "Figueroa High School     District            2949       $1,884,411.00   \n",
       "Ford High School         District            2739       $1,763,916.00   \n",
       "Griffin High School       Charter            1468         $917,500.00   \n",
       "Hernandez High School    District            4635       $3,022,020.00   \n",
       "Holden High School        Charter             427         $248,087.00   \n",
       "Huang High School        District            2917       $1,910,635.00   \n",
       "Johnson High School      District            4761       $3,094,650.00   \n",
       "Pena High School          Charter             962         $585,858.00   \n",
       "Rodriguez High School    District            3999       $2,547,363.00   \n",
       "Shelton High School       Charter            1761       $1,056,600.00   \n",
       "Thomas High School        Charter            1635       $1,043,130.00   \n",
       "Wilson High School        Charter            2283       $1,319,574.00   \n",
       "Wright High School        Charter            1800       $1,049,400.00   \n",
       "\n",
       "                      Per Student Budget  Average Math Score  \\\n",
       "Bailey High School               $628.00           77.048432   \n",
       "Cabrera High School              $582.00           83.061895   \n",
       "Figueroa High School             $639.00           76.711767   \n",
       "Ford High School                 $644.00           77.102592   \n",
       "Griffin High School              $625.00           83.351499   \n",
       "Hernandez High School            $652.00           77.289752   \n",
       "Holden High School               $581.00           83.803279   \n",
       "Huang High School                $655.00           76.629414   \n",
       "Johnson High School              $650.00           77.072464   \n",
       "Pena High School                 $609.00           83.839917   \n",
       "Rodriguez High School            $637.00           76.842711   \n",
       "Shelton High School              $600.00           83.359455   \n",
       "Thomas High School               $638.00           83.418349   \n",
       "Wilson High School               $578.00           83.274201   \n",
       "Wright High School               $583.00           83.682222   \n",
       "\n",
       "                       Average Reading Score  % Passing Math  \\\n",
       "Bailey High School                 81.033963       66.680064   \n",
       "Cabrera High School                83.975780       94.133477   \n",
       "Figueroa High School               81.158020       65.988471   \n",
       "Ford High School                   80.746258       68.309602   \n",
       "Griffin High School                83.816757       93.392371   \n",
       "Hernandez High School              80.934412       66.752967   \n",
       "Holden High School                 83.814988       92.505855   \n",
       "Huang High School                  81.182722       65.683922   \n",
       "Johnson High School                80.966394       66.057551   \n",
       "Pena High School                   84.044699       94.594595   \n",
       "Rodriguez High School              80.744686       66.366592   \n",
       "Shelton High School                83.725724       93.867121   \n",
       "Thomas High School                 83.848930       93.272171   \n",
       "Wilson High School                 83.989488       93.867718   \n",
       "Wright High School                 83.955000       93.333333   \n",
       "\n",
       "                       % Passing Reading  % Overall Passing  \n",
       "Bailey High School             81.933280          54.642283  \n",
       "Cabrera High School            97.039828          91.334769  \n",
       "Figueroa High School           80.739234          53.204476  \n",
       "Ford High School               79.299014          54.289887  \n",
       "Griffin High School            97.138965          90.599455  \n",
       "Hernandez High School          80.862999          53.527508  \n",
       "Holden High School             96.252927          89.227166  \n",
       "Huang High School              81.316421          53.513884  \n",
       "Johnson High School            81.222432          53.539172  \n",
       "Pena High School               95.945946          90.540541  \n",
       "Rodriguez High School          80.220055          52.988247  \n",
       "Shelton High School            95.854628          89.892107  \n",
       "Thomas High School             97.308869          90.948012  \n",
       "Wilson High School             96.539641          90.582567  \n",
       "Wright High School             96.611111          90.333333  "
      ],
      "text/html": "<div>\n<style scoped>\n    .dataframe tbody tr th:only-of-type {\n        vertical-align: middle;\n    }\n\n    .dataframe tbody tr th {\n        vertical-align: top;\n    }\n\n    .dataframe thead th {\n        text-align: right;\n    }\n</style>\n<table border=\"1\" class=\"dataframe\">\n  <thead>\n    <tr style=\"text-align: right;\">\n      <th></th>\n      <th>School Type</th>\n      <th>Total Students</th>\n      <th>Total School Budget</th>\n      <th>Per Student Budget</th>\n      <th>Average Math Score</th>\n      <th>Average Reading Score</th>\n      <th>% Passing Math</th>\n      <th>% Passing Reading</th>\n      <th>% Overall Passing</th>\n    </tr>\n  </thead>\n  <tbody>\n    <tr>\n      <th>Bailey High School</th>\n      <td>District</td>\n      <td>4976</td>\n      <td>$3,124,928.00</td>\n      <td>$628.00</td>\n      <td>77.048432</td>\n      <td>81.033963</td>\n      <td>66.680064</td>\n      <td>81.933280</td>\n      <td>54.642283</td>\n    </tr>\n    <tr>\n      <th>Cabrera High School</th>\n      <td>Charter</td>\n      <td>1858</td>\n      <td>$1,081,356.00</td>\n      <td>$582.00</td>\n      <td>83.061895</td>\n      <td>83.975780</td>\n      <td>94.133477</td>\n      <td>97.039828</td>\n      <td>91.334769</td>\n    </tr>\n    <tr>\n      <th>Figueroa High School</th>\n      <td>District</td>\n      <td>2949</td>\n      <td>$1,884,411.00</td>\n      <td>$639.00</td>\n      <td>76.711767</td>\n      <td>81.158020</td>\n      <td>65.988471</td>\n      <td>80.739234</td>\n      <td>53.204476</td>\n    </tr>\n    <tr>\n      <th>Ford High School</th>\n      <td>District</td>\n      <td>2739</td>\n      <td>$1,763,916.00</td>\n      <td>$644.00</td>\n      <td>77.102592</td>\n      <td>80.746258</td>\n      <td>68.309602</td>\n      <td>79.299014</td>\n      <td>54.289887</td>\n    </tr>\n    <tr>\n      <th>Griffin High School</th>\n      <td>Charter</td>\n      <td>1468</td>\n      <td>$917,500.00</td>\n      <td>$625.00</td>\n      <td>83.351499</td>\n      <td>83.816757</td>\n      <td>93.392371</td>\n      <td>97.138965</td>\n      <td>90.599455</td>\n    </tr>\n    <tr>\n      <th>Hernandez High School</th>\n      <td>District</td>\n      <td>4635</td>\n      <td>$3,022,020.00</td>\n      <td>$652.00</td>\n      <td>77.289752</td>\n      <td>80.934412</td>\n      <td>66.752967</td>\n      <td>80.862999</td>\n      <td>53.527508</td>\n    </tr>\n    <tr>\n      <th>Holden High School</th>\n      <td>Charter</td>\n      <td>427</td>\n      <td>$248,087.00</td>\n      <td>$581.00</td>\n      <td>83.803279</td>\n      <td>83.814988</td>\n      <td>92.505855</td>\n      <td>96.252927</td>\n      <td>89.227166</td>\n    </tr>\n    <tr>\n      <th>Huang High School</th>\n      <td>District</td>\n      <td>2917</td>\n      <td>$1,910,635.00</td>\n      <td>$655.00</td>\n      <td>76.629414</td>\n      <td>81.182722</td>\n      <td>65.683922</td>\n      <td>81.316421</td>\n      <td>53.513884</td>\n    </tr>\n    <tr>\n      <th>Johnson High School</th>\n      <td>District</td>\n      <td>4761</td>\n      <td>$3,094,650.00</td>\n      <td>$650.00</td>\n      <td>77.072464</td>\n      <td>80.966394</td>\n      <td>66.057551</td>\n      <td>81.222432</td>\n      <td>53.539172</td>\n    </tr>\n    <tr>\n      <th>Pena High School</th>\n      <td>Charter</td>\n      <td>962</td>\n      <td>$585,858.00</td>\n      <td>$609.00</td>\n      <td>83.839917</td>\n      <td>84.044699</td>\n      <td>94.594595</td>\n      <td>95.945946</td>\n      <td>90.540541</td>\n    </tr>\n    <tr>\n      <th>Rodriguez High School</th>\n      <td>District</td>\n      <td>3999</td>\n      <td>$2,547,363.00</td>\n      <td>$637.00</td>\n      <td>76.842711</td>\n      <td>80.744686</td>\n      <td>66.366592</td>\n      <td>80.220055</td>\n      <td>52.988247</td>\n    </tr>\n    <tr>\n      <th>Shelton High School</th>\n      <td>Charter</td>\n      <td>1761</td>\n      <td>$1,056,600.00</td>\n      <td>$600.00</td>\n      <td>83.359455</td>\n      <td>83.725724</td>\n      <td>93.867121</td>\n      <td>95.854628</td>\n      <td>89.892107</td>\n    </tr>\n    <tr>\n      <th>Thomas High School</th>\n      <td>Charter</td>\n      <td>1635</td>\n      <td>$1,043,130.00</td>\n      <td>$638.00</td>\n      <td>83.418349</td>\n      <td>83.848930</td>\n      <td>93.272171</td>\n      <td>97.308869</td>\n      <td>90.948012</td>\n    </tr>\n    <tr>\n      <th>Wilson High School</th>\n      <td>Charter</td>\n      <td>2283</td>\n      <td>$1,319,574.00</td>\n      <td>$578.00</td>\n      <td>83.274201</td>\n      <td>83.989488</td>\n      <td>93.867718</td>\n      <td>96.539641</td>\n      <td>90.582567</td>\n    </tr>\n    <tr>\n      <th>Wright High School</th>\n      <td>Charter</td>\n      <td>1800</td>\n      <td>$1,049,400.00</td>\n      <td>$583.00</td>\n      <td>83.682222</td>\n      <td>83.955000</td>\n      <td>93.333333</td>\n      <td>96.611111</td>\n      <td>90.333333</td>\n    </tr>\n  </tbody>\n</table>\n</div>"
     },
     "metadata": {},
     "execution_count": 40
    }
   ],
   "source": [
    "# DataFrame for School Summmary\n",
    "school_summary_df = pd.DataFrame({\n",
    "    \"School Type\": schoolType,\n",
    "    \"Total Students\": schoolTotalStudents,\n",
    "    \"Total School Budget\": schoolBudget.map(\"${:,.2f}\".format),\n",
    "    \"Per Student Budget\": budgetPerStudent.map(\"${:,.2f}\".format),\n",
    "    \"Average Math Score\": avgMathScore,\n",
    "    \"Average Reading Score\": avgReadingScore,\n",
    "    \"% Passing Math\": percentPassingMaths,\n",
    "    \"% Passing Reading\": percentPassingReading,\n",
    "    \"% Overall Passing\": percentStudentsPassing\n",
    "    })\n",
    "\n",
    "school_summary_df"
   ]
  },
  {
   "cell_type": "markdown",
   "metadata": {},
   "source": [
    "## Top Performing Schools (By % Overall Passing)\n",
    "* Sort and display the top five performing schools by % overall passing."
   ]
  },
  {
   "cell_type": "code",
   "execution_count": 41,
   "metadata": {},
   "outputs": [
    {
     "output_type": "execute_result",
     "data": {
      "text/plain": [
       "                    School Type  Total Students Total School Budget  \\\n",
       "Cabrera High School     Charter            1858       $1,081,356.00   \n",
       "Thomas High School      Charter            1635       $1,043,130.00   \n",
       "Griffin High School     Charter            1468         $917,500.00   \n",
       "Wilson High School      Charter            2283       $1,319,574.00   \n",
       "Pena High School        Charter             962         $585,858.00   \n",
       "\n",
       "                    Per Student Budget  Average Math Score  \\\n",
       "Cabrera High School            $582.00           83.061895   \n",
       "Thomas High School             $638.00           83.418349   \n",
       "Griffin High School            $625.00           83.351499   \n",
       "Wilson High School             $578.00           83.274201   \n",
       "Pena High School               $609.00           83.839917   \n",
       "\n",
       "                     Average Reading Score  % Passing Math  % Passing Reading  \\\n",
       "Cabrera High School              83.975780       94.133477          97.039828   \n",
       "Thomas High School               83.848930       93.272171          97.308869   \n",
       "Griffin High School              83.816757       93.392371          97.138965   \n",
       "Wilson High School               83.989488       93.867718          96.539641   \n",
       "Pena High School                 84.044699       94.594595          95.945946   \n",
       "\n",
       "                     % Overall Passing  \n",
       "Cabrera High School          91.334769  \n",
       "Thomas High School           90.948012  \n",
       "Griffin High School          90.599455  \n",
       "Wilson High School           90.582567  \n",
       "Pena High School             90.540541  "
      ],
      "text/html": "<div>\n<style scoped>\n    .dataframe tbody tr th:only-of-type {\n        vertical-align: middle;\n    }\n\n    .dataframe tbody tr th {\n        vertical-align: top;\n    }\n\n    .dataframe thead th {\n        text-align: right;\n    }\n</style>\n<table border=\"1\" class=\"dataframe\">\n  <thead>\n    <tr style=\"text-align: right;\">\n      <th></th>\n      <th>School Type</th>\n      <th>Total Students</th>\n      <th>Total School Budget</th>\n      <th>Per Student Budget</th>\n      <th>Average Math Score</th>\n      <th>Average Reading Score</th>\n      <th>% Passing Math</th>\n      <th>% Passing Reading</th>\n      <th>% Overall Passing</th>\n    </tr>\n  </thead>\n  <tbody>\n    <tr>\n      <th>Cabrera High School</th>\n      <td>Charter</td>\n      <td>1858</td>\n      <td>$1,081,356.00</td>\n      <td>$582.00</td>\n      <td>83.061895</td>\n      <td>83.975780</td>\n      <td>94.133477</td>\n      <td>97.039828</td>\n      <td>91.334769</td>\n    </tr>\n    <tr>\n      <th>Thomas High School</th>\n      <td>Charter</td>\n      <td>1635</td>\n      <td>$1,043,130.00</td>\n      <td>$638.00</td>\n      <td>83.418349</td>\n      <td>83.848930</td>\n      <td>93.272171</td>\n      <td>97.308869</td>\n      <td>90.948012</td>\n    </tr>\n    <tr>\n      <th>Griffin High School</th>\n      <td>Charter</td>\n      <td>1468</td>\n      <td>$917,500.00</td>\n      <td>$625.00</td>\n      <td>83.351499</td>\n      <td>83.816757</td>\n      <td>93.392371</td>\n      <td>97.138965</td>\n      <td>90.599455</td>\n    </tr>\n    <tr>\n      <th>Wilson High School</th>\n      <td>Charter</td>\n      <td>2283</td>\n      <td>$1,319,574.00</td>\n      <td>$578.00</td>\n      <td>83.274201</td>\n      <td>83.989488</td>\n      <td>93.867718</td>\n      <td>96.539641</td>\n      <td>90.582567</td>\n    </tr>\n    <tr>\n      <th>Pena High School</th>\n      <td>Charter</td>\n      <td>962</td>\n      <td>$585,858.00</td>\n      <td>$609.00</td>\n      <td>83.839917</td>\n      <td>84.044699</td>\n      <td>94.594595</td>\n      <td>95.945946</td>\n      <td>90.540541</td>\n    </tr>\n  </tbody>\n</table>\n</div>"
     },
     "metadata": {},
     "execution_count": 41
    }
   ],
   "source": [
    "# Sort the School Summary by 'Percent Overall Passing' and display the top 5\n",
    "school_summary_df.sort_values([\"% Overall Passing\"], ascending=False).head(5)"
   ]
  },
  {
   "cell_type": "markdown",
   "metadata": {},
   "source": [
    "## Bottom Performing Schools (By % Overall Passing)\n",
    "* Sort and display the five worst-performing schools by % overall passing."
   ]
  },
  {
   "cell_type": "code",
   "execution_count": 42,
   "metadata": {},
   "outputs": [
    {
     "output_type": "execute_result",
     "data": {
      "text/plain": [
       "                      School Type  Total Students Total School Budget  \\\n",
       "Rodriguez High School    District            3999       $2,547,363.00   \n",
       "Figueroa High School     District            2949       $1,884,411.00   \n",
       "Huang High School        District            2917       $1,910,635.00   \n",
       "Hernandez High School    District            4635       $3,022,020.00   \n",
       "Johnson High School      District            4761       $3,094,650.00   \n",
       "\n",
       "                      Per Student Budget  Average Math Score  \\\n",
       "Rodriguez High School            $637.00           76.842711   \n",
       "Figueroa High School             $639.00           76.711767   \n",
       "Huang High School                $655.00           76.629414   \n",
       "Hernandez High School            $652.00           77.289752   \n",
       "Johnson High School              $650.00           77.072464   \n",
       "\n",
       "                       Average Reading Score  % Passing Math  \\\n",
       "Rodriguez High School              80.744686       66.366592   \n",
       "Figueroa High School               81.158020       65.988471   \n",
       "Huang High School                  81.182722       65.683922   \n",
       "Hernandez High School              80.934412       66.752967   \n",
       "Johnson High School                80.966394       66.057551   \n",
       "\n",
       "                       % Passing Reading  % Overall Passing  \n",
       "Rodriguez High School          80.220055          52.988247  \n",
       "Figueroa High School           80.739234          53.204476  \n",
       "Huang High School              81.316421          53.513884  \n",
       "Hernandez High School          80.862999          53.527508  \n",
       "Johnson High School            81.222432          53.539172  "
      ],
      "text/html": "<div>\n<style scoped>\n    .dataframe tbody tr th:only-of-type {\n        vertical-align: middle;\n    }\n\n    .dataframe tbody tr th {\n        vertical-align: top;\n    }\n\n    .dataframe thead th {\n        text-align: right;\n    }\n</style>\n<table border=\"1\" class=\"dataframe\">\n  <thead>\n    <tr style=\"text-align: right;\">\n      <th></th>\n      <th>School Type</th>\n      <th>Total Students</th>\n      <th>Total School Budget</th>\n      <th>Per Student Budget</th>\n      <th>Average Math Score</th>\n      <th>Average Reading Score</th>\n      <th>% Passing Math</th>\n      <th>% Passing Reading</th>\n      <th>% Overall Passing</th>\n    </tr>\n  </thead>\n  <tbody>\n    <tr>\n      <th>Rodriguez High School</th>\n      <td>District</td>\n      <td>3999</td>\n      <td>$2,547,363.00</td>\n      <td>$637.00</td>\n      <td>76.842711</td>\n      <td>80.744686</td>\n      <td>66.366592</td>\n      <td>80.220055</td>\n      <td>52.988247</td>\n    </tr>\n    <tr>\n      <th>Figueroa High School</th>\n      <td>District</td>\n      <td>2949</td>\n      <td>$1,884,411.00</td>\n      <td>$639.00</td>\n      <td>76.711767</td>\n      <td>81.158020</td>\n      <td>65.988471</td>\n      <td>80.739234</td>\n      <td>53.204476</td>\n    </tr>\n    <tr>\n      <th>Huang High School</th>\n      <td>District</td>\n      <td>2917</td>\n      <td>$1,910,635.00</td>\n      <td>$655.00</td>\n      <td>76.629414</td>\n      <td>81.182722</td>\n      <td>65.683922</td>\n      <td>81.316421</td>\n      <td>53.513884</td>\n    </tr>\n    <tr>\n      <th>Hernandez High School</th>\n      <td>District</td>\n      <td>4635</td>\n      <td>$3,022,020.00</td>\n      <td>$652.00</td>\n      <td>77.289752</td>\n      <td>80.934412</td>\n      <td>66.752967</td>\n      <td>80.862999</td>\n      <td>53.527508</td>\n    </tr>\n    <tr>\n      <th>Johnson High School</th>\n      <td>District</td>\n      <td>4761</td>\n      <td>$3,094,650.00</td>\n      <td>$650.00</td>\n      <td>77.072464</td>\n      <td>80.966394</td>\n      <td>66.057551</td>\n      <td>81.222432</td>\n      <td>53.539172</td>\n    </tr>\n  </tbody>\n</table>\n</div>"
     },
     "metadata": {},
     "execution_count": 42
    }
   ],
   "source": [
    "# Sort the School Summary by 'Percent Overall Passing' and display the bottom 5\n",
    "school_summary_df.sort_values([\"% Overall Passing\"], ascending=True).head(5)"
   ]
  },
  {
   "cell_type": "markdown",
   "metadata": {
    "collapsed": true
   },
   "source": [
    "## Math Scores by Grade\n",
    "* Create a table that lists the average Reading Score for students of each grade level (9th, 10th, 11th, 12th) at each school.\n",
    "  * Create a pandas series for each grade. Hint: use a conditional statement.\n",
    "  * Group each series by school\n",
    "  * Combine the series into a dataframe\n",
    "  * Optional: give the displayed data cleaner formatting"
   ]
  },
  {
   "cell_type": "code",
   "execution_count": 43,
   "metadata": {},
   "outputs": [
    {
     "output_type": "execute_result",
     "data": {
      "text/plain": [
       "                          9th    10th    11th    12th\n",
       "Bailey High School     77.084  76.997  77.516  76.492\n",
       "Cabrera High School    83.095  83.155  82.766  83.277\n",
       "Figueroa High School   76.403  76.540  76.884  77.151\n",
       "Ford High School       77.361  77.672  76.918  76.180\n",
       "Griffin High School    82.044  84.229  83.842  83.356\n",
       "Hernandez High School  77.438  77.337  77.136  77.187\n",
       "Holden High School     83.787  83.430  85.000  82.855\n",
       "Huang High School      77.027  75.909  76.447  77.226\n",
       "Johnson High School    77.188  76.691  77.492  76.863\n",
       "Pena High School       83.625  83.372  84.328  84.122\n",
       "Rodriguez High School  76.860  76.612  76.396  77.691\n",
       "Shelton High School    83.421  82.917  83.383  83.779\n",
       "Thomas High School     83.590  83.088  83.499  83.497\n",
       "Wilson High School     83.086  83.724  83.195  83.036\n",
       "Wright High School     83.265  84.010  83.837  83.645"
      ],
      "text/html": "<div>\n<style scoped>\n    .dataframe tbody tr th:only-of-type {\n        vertical-align: middle;\n    }\n\n    .dataframe tbody tr th {\n        vertical-align: top;\n    }\n\n    .dataframe thead th {\n        text-align: right;\n    }\n</style>\n<table border=\"1\" class=\"dataframe\">\n  <thead>\n    <tr style=\"text-align: right;\">\n      <th></th>\n      <th>9th</th>\n      <th>10th</th>\n      <th>11th</th>\n      <th>12th</th>\n    </tr>\n  </thead>\n  <tbody>\n    <tr>\n      <th>Bailey High School</th>\n      <td>77.084</td>\n      <td>76.997</td>\n      <td>77.516</td>\n      <td>76.492</td>\n    </tr>\n    <tr>\n      <th>Cabrera High School</th>\n      <td>83.095</td>\n      <td>83.155</td>\n      <td>82.766</td>\n      <td>83.277</td>\n    </tr>\n    <tr>\n      <th>Figueroa High School</th>\n      <td>76.403</td>\n      <td>76.540</td>\n      <td>76.884</td>\n      <td>77.151</td>\n    </tr>\n    <tr>\n      <th>Ford High School</th>\n      <td>77.361</td>\n      <td>77.672</td>\n      <td>76.918</td>\n      <td>76.180</td>\n    </tr>\n    <tr>\n      <th>Griffin High School</th>\n      <td>82.044</td>\n      <td>84.229</td>\n      <td>83.842</td>\n      <td>83.356</td>\n    </tr>\n    <tr>\n      <th>Hernandez High School</th>\n      <td>77.438</td>\n      <td>77.337</td>\n      <td>77.136</td>\n      <td>77.187</td>\n    </tr>\n    <tr>\n      <th>Holden High School</th>\n      <td>83.787</td>\n      <td>83.430</td>\n      <td>85.000</td>\n      <td>82.855</td>\n    </tr>\n    <tr>\n      <th>Huang High School</th>\n      <td>77.027</td>\n      <td>75.909</td>\n      <td>76.447</td>\n      <td>77.226</td>\n    </tr>\n    <tr>\n      <th>Johnson High School</th>\n      <td>77.188</td>\n      <td>76.691</td>\n      <td>77.492</td>\n      <td>76.863</td>\n    </tr>\n    <tr>\n      <th>Pena High School</th>\n      <td>83.625</td>\n      <td>83.372</td>\n      <td>84.328</td>\n      <td>84.122</td>\n    </tr>\n    <tr>\n      <th>Rodriguez High School</th>\n      <td>76.860</td>\n      <td>76.612</td>\n      <td>76.396</td>\n      <td>77.691</td>\n    </tr>\n    <tr>\n      <th>Shelton High School</th>\n      <td>83.421</td>\n      <td>82.917</td>\n      <td>83.383</td>\n      <td>83.779</td>\n    </tr>\n    <tr>\n      <th>Thomas High School</th>\n      <td>83.590</td>\n      <td>83.088</td>\n      <td>83.499</td>\n      <td>83.497</td>\n    </tr>\n    <tr>\n      <th>Wilson High School</th>\n      <td>83.086</td>\n      <td>83.724</td>\n      <td>83.195</td>\n      <td>83.036</td>\n    </tr>\n    <tr>\n      <th>Wright High School</th>\n      <td>83.265</td>\n      <td>84.010</td>\n      <td>83.837</td>\n      <td>83.645</td>\n    </tr>\n  </tbody>\n</table>\n</div>"
     },
     "metadata": {},
     "execution_count": 43
    }
   ],
   "source": [
    "# Filter math_score by each grade and group by school\n",
    "avg_9_MathsScores = school_data_complete.loc[school_data_complete[\"grade\"] == \"9th\"].groupby(\"school_name\")[\"math_score\"].mean()\n",
    "avg_10_MathsScores = school_data_complete.loc[school_data_complete[\"grade\"] == \"10th\"].groupby(\"school_name\")[\"math_score\"].mean()\n",
    "avg_11_MathsScores = school_data_complete.loc[school_data_complete[\"grade\"] == \"11th\"].groupby(\"school_name\")[\"math_score\"].mean()\n",
    "avg_12_MathsScores = school_data_complete.loc[school_data_complete[\"grade\"] == \"12th\"].groupby(\"school_name\")[\"math_score\"].mean()\n",
    "\n",
    "# Apply formatting to show 3 decimal places\n",
    "avg_maths_scores_df = pd.DataFrame({\n",
    "    \"9th\": avg_9_MathsScores.map(\"{:.3f}\".format),\n",
    "    \"10th\": avg_10_MathsScores.map(\"{:.3f}\".format),\n",
    "    \"11th\": avg_11_MathsScores.map(\"{:.3f}\".format),\n",
    "    \"12th\": avg_12_MathsScores.map(\"{:.3f}\".format)\n",
    "})\n",
    "\n",
    "# Remove the index column label from header\n",
    "avg_maths_scores_df = avg_maths_scores_df.rename_axis(None, axis=0)\n",
    "avg_maths_scores_df"
   ]
  },
  {
   "cell_type": "markdown",
   "metadata": {},
   "source": [
    "## Reading Score by Grade\n",
    "* Perform the same operations as above for reading scores"
   ]
  },
  {
   "cell_type": "code",
   "execution_count": 44,
   "metadata": {},
   "outputs": [
    {
     "output_type": "execute_result",
     "data": {
      "text/plain": [
       "                          9th    10th    11th    12th\n",
       "Bailey High School     81.303  80.907  80.946  80.912\n",
       "Cabrera High School    83.676  84.253  83.788  84.288\n",
       "Figueroa High School   81.199  81.409  80.640  81.385\n",
       "Ford High School       80.633  81.263  80.404  80.662\n",
       "Griffin High School    83.369  83.707  84.288  84.014\n",
       "Hernandez High School  80.867  80.660  81.396  80.857\n",
       "Holden High School     83.677  83.325  83.816  84.699\n",
       "Huang High School      81.290  81.512  81.417  80.306\n",
       "Johnson High School    81.261  80.773  80.616  81.228\n",
       "Pena High School       83.807  83.612  84.336  84.591\n",
       "Rodriguez High School  80.993  80.630  80.865  80.376\n",
       "Shelton High School    84.123  83.442  84.374  82.782\n",
       "Thomas High School     83.729  84.254  83.586  83.831\n",
       "Wilson High School     83.940  84.021  83.765  84.318\n",
       "Wright High School     83.833  83.813  84.156  84.073"
      ],
      "text/html": "<div>\n<style scoped>\n    .dataframe tbody tr th:only-of-type {\n        vertical-align: middle;\n    }\n\n    .dataframe tbody tr th {\n        vertical-align: top;\n    }\n\n    .dataframe thead th {\n        text-align: right;\n    }\n</style>\n<table border=\"1\" class=\"dataframe\">\n  <thead>\n    <tr style=\"text-align: right;\">\n      <th></th>\n      <th>9th</th>\n      <th>10th</th>\n      <th>11th</th>\n      <th>12th</th>\n    </tr>\n  </thead>\n  <tbody>\n    <tr>\n      <th>Bailey High School</th>\n      <td>81.303</td>\n      <td>80.907</td>\n      <td>80.946</td>\n      <td>80.912</td>\n    </tr>\n    <tr>\n      <th>Cabrera High School</th>\n      <td>83.676</td>\n      <td>84.253</td>\n      <td>83.788</td>\n      <td>84.288</td>\n    </tr>\n    <tr>\n      <th>Figueroa High School</th>\n      <td>81.199</td>\n      <td>81.409</td>\n      <td>80.640</td>\n      <td>81.385</td>\n    </tr>\n    <tr>\n      <th>Ford High School</th>\n      <td>80.633</td>\n      <td>81.263</td>\n      <td>80.404</td>\n      <td>80.662</td>\n    </tr>\n    <tr>\n      <th>Griffin High School</th>\n      <td>83.369</td>\n      <td>83.707</td>\n      <td>84.288</td>\n      <td>84.014</td>\n    </tr>\n    <tr>\n      <th>Hernandez High School</th>\n      <td>80.867</td>\n      <td>80.660</td>\n      <td>81.396</td>\n      <td>80.857</td>\n    </tr>\n    <tr>\n      <th>Holden High School</th>\n      <td>83.677</td>\n      <td>83.325</td>\n      <td>83.816</td>\n      <td>84.699</td>\n    </tr>\n    <tr>\n      <th>Huang High School</th>\n      <td>81.290</td>\n      <td>81.512</td>\n      <td>81.417</td>\n      <td>80.306</td>\n    </tr>\n    <tr>\n      <th>Johnson High School</th>\n      <td>81.261</td>\n      <td>80.773</td>\n      <td>80.616</td>\n      <td>81.228</td>\n    </tr>\n    <tr>\n      <th>Pena High School</th>\n      <td>83.807</td>\n      <td>83.612</td>\n      <td>84.336</td>\n      <td>84.591</td>\n    </tr>\n    <tr>\n      <th>Rodriguez High School</th>\n      <td>80.993</td>\n      <td>80.630</td>\n      <td>80.865</td>\n      <td>80.376</td>\n    </tr>\n    <tr>\n      <th>Shelton High School</th>\n      <td>84.123</td>\n      <td>83.442</td>\n      <td>84.374</td>\n      <td>82.782</td>\n    </tr>\n    <tr>\n      <th>Thomas High School</th>\n      <td>83.729</td>\n      <td>84.254</td>\n      <td>83.586</td>\n      <td>83.831</td>\n    </tr>\n    <tr>\n      <th>Wilson High School</th>\n      <td>83.940</td>\n      <td>84.021</td>\n      <td>83.765</td>\n      <td>84.318</td>\n    </tr>\n    <tr>\n      <th>Wright High School</th>\n      <td>83.833</td>\n      <td>83.813</td>\n      <td>84.156</td>\n      <td>84.073</td>\n    </tr>\n  </tbody>\n</table>\n</div>"
     },
     "metadata": {},
     "execution_count": 44
    }
   ],
   "source": [
    "# Filter reading_score by each grade and group by school\n",
    "avg_9_ReadingScores = school_data_complete.loc[school_data_complete[\"grade\"] == \"9th\"].groupby(\"school_name\")[\"reading_score\"].mean()\n",
    "avg_10_ReadingScores = school_data_complete.loc[school_data_complete[\"grade\"] == \"10th\"].groupby(\"school_name\")[\"reading_score\"].mean()\n",
    "avg_11_ReadingScores = school_data_complete.loc[school_data_complete[\"grade\"] == \"11th\"].groupby(\"school_name\")[\"reading_score\"].mean()\n",
    "avg_12_ReadingScores = school_data_complete.loc[school_data_complete[\"grade\"] == \"12th\"].groupby(\"school_name\")[\"reading_score\"].mean()\n",
    "\n",
    "# Apply formatting to show 3 decimal places\n",
    "avg_reading_scores_df = pd.DataFrame({\n",
    "    \"9th\": avg_9_ReadingScores.map(\"{:.3f}\".format),\n",
    "    \"10th\": avg_10_ReadingScores.map(\"{:.3f}\".format),\n",
    "    \"11th\": avg_11_ReadingScores.map(\"{:.3f}\".format),\n",
    "    \"12th\": avg_12_ReadingScores.map(\"{:.3f}\".format)\n",
    "})\n",
    "\n",
    "# Remove the index column label from header\n",
    "avg_reading_scores_df = avg_reading_scores_df.rename_axis(None, axis=0)\n",
    "avg_reading_scores_df"
   ]
  },
  {
   "cell_type": "markdown",
   "metadata": {},
   "source": [
    "## Scores by School Spending\n",
    "* Create a table that breaks down school performances based on average Spending Ranges (Per Student). Use 4 reasonable bins to group school spending. Include in the table each of the following:\n",
    "  * Average Math Score\n",
    "  * Average Reading Score\n",
    "  * % Passing Math\n",
    "  * % Passing Reading\n",
    "  * Overall Passing Rate (Average of the above two)"
   ]
  },
  {
   "cell_type": "code",
   "execution_count": 45,
   "metadata": {},
   "outputs": [
    {
     "output_type": "execute_result",
     "data": {
      "text/plain": [
       "<pandas.io.formats.style.Styler at 0x20ee87048e0>"
      ],
      "text/html": "<style  type=\"text/css\" >\n</style><table id=\"T_f40c8c04_7d40_11eb_97c4_000c29eda57c\" ><thead>    <tr>        <th class=\"blank level0\" ></th>        <th class=\"col_heading level0 col0\" >Average Math Score</th>        <th class=\"col_heading level0 col1\" >Average Reading Score</th>        <th class=\"col_heading level0 col2\" >% Passing Math</th>        <th class=\"col_heading level0 col3\" >% Passing Reading</th>        <th class=\"col_heading level0 col4\" >% Overall Passing</th>    </tr>    <tr>        <th class=\"index_name level0\" >Spending Ranges (Per Student)</th>        <th class=\"blank\" ></th>        <th class=\"blank\" ></th>        <th class=\"blank\" ></th>        <th class=\"blank\" ></th>        <th class=\"blank\" ></th>    </tr></thead><tbody>\n                <tr>\n                        <th id=\"T_f40c8c04_7d40_11eb_97c4_000c29eda57clevel0_row0\" class=\"row_heading level0 row0\" >< $585</th>\n                        <td id=\"T_f40c8c04_7d40_11eb_97c4_000c29eda57crow0_col0\" class=\"data row0 col0\" >83.455</td>\n                        <td id=\"T_f40c8c04_7d40_11eb_97c4_000c29eda57crow0_col1\" class=\"data row0 col1\" >83.934</td>\n                        <td id=\"T_f40c8c04_7d40_11eb_97c4_000c29eda57crow0_col2\" class=\"data row0 col2\" >93.460</td>\n                        <td id=\"T_f40c8c04_7d40_11eb_97c4_000c29eda57crow0_col3\" class=\"data row0 col3\" >96.611</td>\n                        <td id=\"T_f40c8c04_7d40_11eb_97c4_000c29eda57crow0_col4\" class=\"data row0 col4\" >90.369</td>\n            </tr>\n            <tr>\n                        <th id=\"T_f40c8c04_7d40_11eb_97c4_000c29eda57clevel0_row1\" class=\"row_heading level0 row1\" >$585-$630</th>\n                        <td id=\"T_f40c8c04_7d40_11eb_97c4_000c29eda57crow1_col0\" class=\"data row1 col0\" >81.900</td>\n                        <td id=\"T_f40c8c04_7d40_11eb_97c4_000c29eda57crow1_col1\" class=\"data row1 col1\" >83.155</td>\n                        <td id=\"T_f40c8c04_7d40_11eb_97c4_000c29eda57crow1_col2\" class=\"data row1 col2\" >87.134</td>\n                        <td id=\"T_f40c8c04_7d40_11eb_97c4_000c29eda57crow1_col3\" class=\"data row1 col3\" >92.718</td>\n                        <td id=\"T_f40c8c04_7d40_11eb_97c4_000c29eda57crow1_col4\" class=\"data row1 col4\" >81.419</td>\n            </tr>\n            <tr>\n                        <th id=\"T_f40c8c04_7d40_11eb_97c4_000c29eda57clevel0_row2\" class=\"row_heading level0 row2\" >$630-$645</th>\n                        <td id=\"T_f40c8c04_7d40_11eb_97c4_000c29eda57crow2_col0\" class=\"data row2 col0\" >78.519</td>\n                        <td id=\"T_f40c8c04_7d40_11eb_97c4_000c29eda57crow2_col1\" class=\"data row2 col1\" >81.624</td>\n                        <td id=\"T_f40c8c04_7d40_11eb_97c4_000c29eda57crow2_col2\" class=\"data row2 col2\" >73.484</td>\n                        <td id=\"T_f40c8c04_7d40_11eb_97c4_000c29eda57crow2_col3\" class=\"data row2 col3\" >84.392</td>\n                        <td id=\"T_f40c8c04_7d40_11eb_97c4_000c29eda57crow2_col4\" class=\"data row2 col4\" >62.858</td>\n            </tr>\n            <tr>\n                        <th id=\"T_f40c8c04_7d40_11eb_97c4_000c29eda57clevel0_row3\" class=\"row_heading level0 row3\" >$645-$680</th>\n                        <td id=\"T_f40c8c04_7d40_11eb_97c4_000c29eda57crow3_col0\" class=\"data row3 col0\" >76.997</td>\n                        <td id=\"T_f40c8c04_7d40_11eb_97c4_000c29eda57crow3_col1\" class=\"data row3 col1\" >81.028</td>\n                        <td id=\"T_f40c8c04_7d40_11eb_97c4_000c29eda57crow3_col2\" class=\"data row3 col2\" >66.165</td>\n                        <td id=\"T_f40c8c04_7d40_11eb_97c4_000c29eda57crow3_col3\" class=\"data row3 col3\" >81.134</td>\n                        <td id=\"T_f40c8c04_7d40_11eb_97c4_000c29eda57crow3_col4\" class=\"data row3 col4\" >53.527</td>\n            </tr>\n    </tbody></table>"
     },
     "metadata": {},
     "execution_count": 45
    }
   ],
   "source": [
    "# Need to 'undo' the formatting applied to the 'Per Student Budget' column of the School Summary dataframe from above\n",
    "# Strips dollar sign ($), comma (,) and converts data type from String to Float\n",
    "school_summary_df[\"Per Student Budget\"] = school_summary_df[\"Per Student Budget\"].replace(\"[\\$,]\",\"\",regex=True).astype(float)\n",
    "\n",
    "# Create bins and labels relavent to 'Per Student Budget'\n",
    "bins = [0, 585, 630, 645, 680]\n",
    "group_labels = [\"< $585\",\"$585-$630\",\"$630-$645\",\"$645-$680\"]\n",
    "\n",
    "# Add 'Spending Ranges' to School Summary dataframe\n",
    "school_summary_df[\"Spending Ranges (Per Student)\"] = pd.cut(school_summary_df[\"Per Student Budget\"], bins, labels=group_labels)\n",
    "\n",
    "# Group School Summary by 'Spending Ranges'\n",
    "score_spending_groups = school_summary_df.groupby(\"Spending Ranges (Per Student)\")\n",
    "\n",
    "# Create a DataFrame with the specific columns from the groupby object\n",
    "score_spending_df = score_spending_groups[[\"Average Math Score\",\"Average Reading Score\",\"% Passing Math\",\"% Passing Reading\",\"% Overall Passing\"]].mean()\n",
    "\n",
    "# Apply formatting to show 3 decimal places\n",
    "score_spending_df = score_spending_df.style.format({\n",
    "    \"Average Math Score\": \"{:.3f}\",\n",
    "    \"Average Reading Score\": \"{:.3f}\",\n",
    "    \"% Passing Math\": \"{:.3f}\",\n",
    "    \"% Passing Reading\": \"{:.3f}\",\n",
    "    \"% Overall Passing\": \"{:.3f}\"\n",
    "})\n",
    "score_spending_df"
   ]
  },
  {
   "cell_type": "markdown",
   "metadata": {},
   "source": [
    "## Scores by School Size\n",
    "* Perform the same operations as above, based on school size."
   ]
  },
  {
   "cell_type": "code",
   "execution_count": 46,
   "metadata": {
    "scrolled": true
   },
   "outputs": [
    {
     "output_type": "execute_result",
     "data": {
      "text/plain": [
       "<pandas.io.formats.style.Styler at 0x20ee9e141c0>"
      ],
      "text/html": "<style  type=\"text/css\" >\n</style><table id=\"T_f4112009_7d40_11eb_9cbb_000c29eda57c\" ><thead>    <tr>        <th class=\"blank level0\" ></th>        <th class=\"col_heading level0 col0\" >Average Math Score</th>        <th class=\"col_heading level0 col1\" >Average Reading Score</th>        <th class=\"col_heading level0 col2\" >% Passing Math</th>        <th class=\"col_heading level0 col3\" >% Passing Reading</th>        <th class=\"col_heading level0 col4\" >% Overall Passing</th>    </tr>    <tr>        <th class=\"index_name level0\" >School Size</th>        <th class=\"blank\" ></th>        <th class=\"blank\" ></th>        <th class=\"blank\" ></th>        <th class=\"blank\" ></th>        <th class=\"blank\" ></th>    </tr></thead><tbody>\n                <tr>\n                        <th id=\"T_f4112009_7d40_11eb_9cbb_000c29eda57clevel0_row0\" class=\"row_heading level0 row0\" >Small (< 1000)</th>\n                        <td id=\"T_f4112009_7d40_11eb_9cbb_000c29eda57crow0_col0\" class=\"data row0 col0\" >83.822</td>\n                        <td id=\"T_f4112009_7d40_11eb_9cbb_000c29eda57crow0_col1\" class=\"data row0 col1\" >83.930</td>\n                        <td id=\"T_f4112009_7d40_11eb_9cbb_000c29eda57crow0_col2\" class=\"data row0 col2\" >93.550</td>\n                        <td id=\"T_f4112009_7d40_11eb_9cbb_000c29eda57crow0_col3\" class=\"data row0 col3\" >96.099</td>\n                        <td id=\"T_f4112009_7d40_11eb_9cbb_000c29eda57crow0_col4\" class=\"data row0 col4\" >89.884</td>\n            </tr>\n            <tr>\n                        <th id=\"T_f4112009_7d40_11eb_9cbb_000c29eda57clevel0_row1\" class=\"row_heading level0 row1\" > Medium (1000-2000)</th>\n                        <td id=\"T_f4112009_7d40_11eb_9cbb_000c29eda57crow1_col0\" class=\"data row1 col0\" >83.375</td>\n                        <td id=\"T_f4112009_7d40_11eb_9cbb_000c29eda57crow1_col1\" class=\"data row1 col1\" >83.864</td>\n                        <td id=\"T_f4112009_7d40_11eb_9cbb_000c29eda57crow1_col2\" class=\"data row1 col2\" >93.600</td>\n                        <td id=\"T_f4112009_7d40_11eb_9cbb_000c29eda57crow1_col3\" class=\"data row1 col3\" >96.791</td>\n                        <td id=\"T_f4112009_7d40_11eb_9cbb_000c29eda57crow1_col4\" class=\"data row1 col4\" >90.622</td>\n            </tr>\n            <tr>\n                        <th id=\"T_f4112009_7d40_11eb_9cbb_000c29eda57clevel0_row2\" class=\"row_heading level0 row2\" >Large (2000-5000)</th>\n                        <td id=\"T_f4112009_7d40_11eb_9cbb_000c29eda57crow2_col0\" class=\"data row2 col0\" >77.746</td>\n                        <td id=\"T_f4112009_7d40_11eb_9cbb_000c29eda57crow2_col1\" class=\"data row2 col1\" >81.344</td>\n                        <td id=\"T_f4112009_7d40_11eb_9cbb_000c29eda57crow2_col2\" class=\"data row2 col2\" >69.963</td>\n                        <td id=\"T_f4112009_7d40_11eb_9cbb_000c29eda57crow2_col3\" class=\"data row2 col3\" >82.767</td>\n                        <td id=\"T_f4112009_7d40_11eb_9cbb_000c29eda57crow2_col4\" class=\"data row2 col4\" >58.286</td>\n            </tr>\n    </tbody></table>"
     },
     "metadata": {},
     "execution_count": 46
    }
   ],
   "source": [
    "# Create bins and labels relavent for Student Population (per school)\n",
    "bins = [0, 1000, 2000, 5000]\n",
    "group_labels = [\"Small (< 1000)\",\" Medium (1000-2000)\",\"Large (2000-5000)\"]\n",
    "\n",
    "# Add 'School Size' to summary dataframe\n",
    "school_summary_df[\"School Size\"] = pd.cut(school_summary_df[\"Total Students\"], bins, labels=group_labels)\n",
    "\n",
    "# Group School Summary by 'School Size'\n",
    "score_bysize_groups = school_summary_df.groupby(\"School Size\")\n",
    "\n",
    "# Create a DataFrame with the specific columns from the groupby object\n",
    "score_bysize_df = score_bysize_groups[[\"Average Math Score\",\"Average Reading Score\",\"% Passing Math\",\"% Passing Reading\",\"% Overall Passing\"]].mean()\n",
    "\n",
    "# Apply formatting to show 3 decimal places\n",
    "score_bysize_df = score_bysize_df.style.format({\n",
    "    \"Average Math Score\": \"{:.3f}\",\n",
    "    \"Average Reading Score\": \"{:.3f}\",\n",
    "    \"% Passing Math\": \"{:.3f}\",\n",
    "    \"% Passing Reading\": \"{:.3f}\",\n",
    "    \"% Overall Passing\": \"{:.3f}\"\n",
    "})\n",
    "score_bysize_df"
   ]
  },
  {
   "cell_type": "markdown",
   "metadata": {},
   "source": [
    "## Scores by School Type\n",
    "* Perform the same operations as above, based on school type"
   ]
  },
  {
   "cell_type": "code",
   "execution_count": 47,
   "metadata": {},
   "outputs": [
    {
     "output_type": "execute_result",
     "data": {
      "text/plain": [
       "<pandas.io.formats.style.Styler at 0x20eea44f160>"
      ],
      "text/html": "<style  type=\"text/css\" >\n</style><table id=\"T_f4153e9d_7d40_11eb_a1de_000c29eda57c\" ><thead>    <tr>        <th class=\"blank level0\" ></th>        <th class=\"col_heading level0 col0\" >Average Math Score</th>        <th class=\"col_heading level0 col1\" >Average Reading Score</th>        <th class=\"col_heading level0 col2\" >% Passing Math</th>        <th class=\"col_heading level0 col3\" >% Passing Reading</th>        <th class=\"col_heading level0 col4\" >% Overall Passing</th>    </tr>    <tr>        <th class=\"index_name level0\" >School Type</th>        <th class=\"blank\" ></th>        <th class=\"blank\" ></th>        <th class=\"blank\" ></th>        <th class=\"blank\" ></th>        <th class=\"blank\" ></th>    </tr></thead><tbody>\n                <tr>\n                        <th id=\"T_f4153e9d_7d40_11eb_a1de_000c29eda57clevel0_row0\" class=\"row_heading level0 row0\" >Charter</th>\n                        <td id=\"T_f4153e9d_7d40_11eb_a1de_000c29eda57crow0_col0\" class=\"data row0 col0\" >83.474</td>\n                        <td id=\"T_f4153e9d_7d40_11eb_a1de_000c29eda57crow0_col1\" class=\"data row0 col1\" >83.896</td>\n                        <td id=\"T_f4153e9d_7d40_11eb_a1de_000c29eda57crow0_col2\" class=\"data row0 col2\" >93.621</td>\n                        <td id=\"T_f4153e9d_7d40_11eb_a1de_000c29eda57crow0_col3\" class=\"data row0 col3\" >96.586</td>\n                        <td id=\"T_f4153e9d_7d40_11eb_a1de_000c29eda57crow0_col4\" class=\"data row0 col4\" >90.432</td>\n            </tr>\n            <tr>\n                        <th id=\"T_f4153e9d_7d40_11eb_a1de_000c29eda57clevel0_row1\" class=\"row_heading level0 row1\" >District</th>\n                        <td id=\"T_f4153e9d_7d40_11eb_a1de_000c29eda57crow1_col0\" class=\"data row1 col0\" >76.957</td>\n                        <td id=\"T_f4153e9d_7d40_11eb_a1de_000c29eda57crow1_col1\" class=\"data row1 col1\" >80.967</td>\n                        <td id=\"T_f4153e9d_7d40_11eb_a1de_000c29eda57crow1_col2\" class=\"data row1 col2\" >66.548</td>\n                        <td id=\"T_f4153e9d_7d40_11eb_a1de_000c29eda57crow1_col3\" class=\"data row1 col3\" >80.799</td>\n                        <td id=\"T_f4153e9d_7d40_11eb_a1de_000c29eda57crow1_col4\" class=\"data row1 col4\" >53.672</td>\n            </tr>\n    </tbody></table>"
     },
     "metadata": {},
     "execution_count": 47
    }
   ],
   "source": [
    "# Group School Summary by 'School Type'\n",
    "score_bytype_groups = school_summary_df.groupby(\"School Type\")\n",
    "\n",
    "# Create a DataFrame with the specific columns from the groupby object\n",
    "score_bytype_df = score_bytype_groups[[\"Average Math Score\",\"Average Reading Score\",\"% Passing Math\",\"% Passing Reading\",\"% Overall Passing\"]].mean()\n",
    "\n",
    "# Apply formatting to show 3 decimal places\n",
    "score_bytype_df = score_bytype_df.style.format({\n",
    "    \"Average Math Score\": \"{:.3f}\",\n",
    "    \"Average Reading Score\": \"{:.3f}\",\n",
    "    \"% Passing Math\": \"{:.3f}\",\n",
    "    \"% Passing Reading\": \"{:.3f}\",\n",
    "    \"% Overall Passing\": \"{:.3f}\"\n",
    "})\n",
    "score_bytype_df"
   ]
  },
  {
   "cell_type": "code",
   "execution_count": null,
   "metadata": {},
   "outputs": [],
   "source": []
  }
 ],
 "metadata": {
  "anaconda-cloud": {},
  "kernel_info": {
   "name": "python3"
  },
  "kernelspec": {
   "name": "python3",
   "display_name": "Python 3.8.5 64-bit (conda)",
   "metadata": {
    "interpreter": {
     "hash": "6d4cbe4fe6a33e4d72c9a2990f07f1aeb20aae8182e4dceeb23ed7c7096de238"
    }
   }
  },
  "language_info": {
   "codemirror_mode": {
    "name": "ipython",
    "version": 3
   },
   "file_extension": ".py",
   "mimetype": "text/x-python",
   "name": "python",
   "nbconvert_exporter": "python",
   "pygments_lexer": "ipython3",
   "version": "3.8.5-final"
  },
  "latex_envs": {
   "LaTeX_envs_menu_present": true,
   "autoclose": false,
   "autocomplete": true,
   "bibliofile": "biblio.bib",
   "cite_by": "apalike",
   "current_citInitial": 1,
   "eqLabelWithNumbers": true,
   "eqNumInitial": 1,
   "hotkeys": {
    "equation": "Ctrl-E",
    "itemize": "Ctrl-I"
   },
   "labels_anchors": false,
   "latex_user_defs": false,
   "report_style_numbering": false,
   "user_envs_cfg": false
  },
  "nteract": {
   "version": "0.8.4"
  }
 },
 "nbformat": 4,
 "nbformat_minor": 1
}